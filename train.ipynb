{
  "nbformat": 4,
  "nbformat_minor": 0,
  "metadata": {
    "colab": {
      "name": "Untitled3.ipynb",
      "private_outputs": true,
      "provenance": [],
      "collapsed_sections": [],
      "mount_file_id": "1275xXohaykI8YprP2KGkKod_H4_c89fW",
      "authorship_tag": "ABX9TyPAi1A0YgQkqFBbT+jF824G",
      "include_colab_link": true
    },
    "kernelspec": {
      "name": "python3",
      "display_name": "Python 3"
    },
    "language_info": {
      "name": "python"
    },
    "accelerator": "GPU"
  },
  "cells": [
    {
      "cell_type": "markdown",
      "metadata": {
        "id": "view-in-github",
        "colab_type": "text"
      },
      "source": [
        "<a href=\"https://colab.research.google.com/github/dapao9999/7/blob/master/train.ipynb\" target=\"_parent\"><img src=\"https://colab.research.google.com/assets/colab-badge.svg\" alt=\"Open In Colab\"/></a>"
      ]
    },
    {
      "cell_type": "code",
      "execution_count": null,
      "metadata": {
        "id": "9X9qg7UhYtF-"
      },
      "outputs": [],
      "source": [
        "!git clone -b xiangqi https://github.com/ianfab/variant-nnue-pytorch.git"
      ]
    },
    {
      "cell_type": "code",
      "source": [
        "!pip install pytorch_lightning==1.4.9"
      ],
      "metadata": {
        "id": "eB9YONTqYYw8"
      },
      "execution_count": null,
      "outputs": []
    },
    {
      "cell_type": "code",
      "source": [
        "!nvidia-smi"
      ],
      "metadata": {
        "id": "941BAaZh6IwZ"
      },
      "execution_count": null,
      "outputs": []
    },
    {
      "cell_type": "code",
      "source": [
        "!cp /content/drive/MyDrive/xiangqi* /content/variant-nnue-pytorch/"
      ],
      "metadata": {
        "id": "l9BscaQGY0Gb"
      },
      "execution_count": null,
      "outputs": []
    },
    {
      "cell_type": "code",
      "source": [
        "!cp /content/drive/MyDrive/val.bin /content/variant-nnue-pytorch/"
      ],
      "metadata": {
        "id": "OViJNf_Obj-Y"
      },
      "execution_count": null,
      "outputs": []
    },
    {
      "cell_type": "code",
      "source": [
        "%cd variant-nnue-pytorch/\n"
      ],
      "metadata": {
        "id": "agb-PCMaZVU_"
      },
      "execution_count": null,
      "outputs": []
    },
    {
      "cell_type": "code",
      "source": [
        "!python train.py --gpus 1 --resume-from-model startingpointfortraining.pt xiangqi.bin val.bin"
      ],
      "metadata": {
        "id": "e-jcpDQi7NPi"
      },
      "execution_count": null,
      "outputs": []
    },
    {
      "cell_type": "code",
      "source": [
        "!python train.py --gpus 1 xiangqi.bin val.bin"
      ],
      "metadata": {
        "id": "88iyLHoncXwf"
      },
      "execution_count": null,
      "outputs": []
    },
    {
      "cell_type": "code",
      "source": [
        "!python visualize.py xiangqi-83f16c17fe26.nnue --features=\"HalfKAv2\"\n"
      ],
      "metadata": {
        "id": "jHkGw-VEindc"
      },
      "execution_count": null,
      "outputs": []
    },
    {
      "cell_type": "code",
      "source": [
        "!python train.py --gpus 1 --resume_from_checkpoint logs/default/version_4/checkpoints/last.ckpt xiangqi.bin val.bin"
      ],
      "metadata": {
        "id": "1vScpAG8igC4"
      },
      "execution_count": null,
      "outputs": []
    },
    {
      "cell_type": "code",
      "source": [
        "!python serialize.py logs/default/version_4/checkpoints/last.ckpt 222.nnue\n"
      ],
      "metadata": {
        "id": "KGMNGNf--W0h"
      },
      "execution_count": null,
      "outputs": []
    },
    {
      "cell_type": "code",
      "source": [
        "!cp /content/variant-nnue-pytorch/222.nnue /content/drive/MyDrive/"
      ],
      "metadata": {
        "id": "e1hbjMC_hwsL"
      },
      "execution_count": null,
      "outputs": []
    },
    {
      "cell_type": "code",
      "source": [
        "!python serialize.py --features='HalfKAv2' xiangqi-83f16c17fe26.nnue startingpointfortraining.pt"
      ],
      "metadata": {
        "id": "53hrF2QVcEGQ"
      },
      "execution_count": null,
      "outputs": []
    },
    {
      "cell_type": "code",
      "source": [
        "!sh compile_data_loader.bat"
      ],
      "metadata": {
        "id": "R4Eak1l3Fvwg"
      },
      "execution_count": null,
      "outputs": []
    },
    {
      "cell_type": "code",
      "source": [
        "from google.colab import drive\n",
        "drive.mount('/content/drive')"
      ],
      "metadata": {
        "id": "cW9AgU2bECKe"
      },
      "execution_count": null,
      "outputs": []
    }
  ]
}